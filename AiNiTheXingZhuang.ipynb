{
 "cells": [
  {
   "cell_type": "code",
   "execution_count": 1,
   "metadata": {},
   "outputs": [
    {
     "name": "stdout",
     "output_type": "stream",
     "text": [
      "Now let's get started.\n",
      "Initialising...\n",
      "Loading the first Number...\n",
      "The first number I need is 52.8.\n",
      "Loading the second Number...\n",
      "The second number I need is 3.9343.\n",
      "Calculating...\n",
      "10+52.8\n",
      "(10+52.8) * 5\n",
      "(10+52.8) * 5 - 3.9343\n",
      "[(10+52.8) * 5 - 3.9343] * 2\n",
      "[(10+52.8) * 5 - 3.9343] * 2 - 10 * 10\n",
      "The result you get is 520.1314\n",
      "Finally...\n",
      "Happy Birthday. Glad to be the same old as you for the moment. Love you 4ever.\n"
     ]
    }
   ],
   "source": [
    "from turtle import *\n",
    "from random import randint\n",
    "from time import sleep\n",
    "\n",
    "name = input(\"Your full name in initials: \").upper()\n",
    "if name != 'YXY' and name != 'XYY':\n",
    "    print (\"This game isn't meant for you. Bye.\")\n",
    "else:\n",
    "    print (\"Now let's get started.\")\n",
    "    def dum_arithmetic():\n",
    "      guess = int(input(\"From 1 to 10, how much do you think I love you: \"))\n",
    "      return guess\n",
    "    print ('Initialising...')\n",
    "    print ('Loading the first Number...')\n",
    "    sleep(1)\n",
    "    first = 52.8\n",
    "    print(\"The first number I need is \" + str(first) +'.')\n",
    "\n",
    "    print ('Loading the second Number...')\n",
    "    sleep(1)\n",
    "    second = 3.9343\n",
    "    print(\"The second number I need is \" + str(second) +'.')\n",
    "    \n",
    "    max_val = 10\n",
    "\n",
    "    guess = dum_arithmetic()\n",
    "\n",
    "    while guess > max_val:\n",
    "      print('You do know me! From 1 to 10, my love to you is like a trillion, though the maximum possible value is ' + str(max_val) + '. Now try again.')\n",
    "      guess = dum_arithmetic()\n",
    "    else:\n",
    "      print ('Calculating...')\n",
    "      sleep(2)\n",
    "      print(str(guess) + '+' + str(first))\n",
    "      sleep(1)\n",
    "      print('(' + str(guess) + '+' + str(first) + ') * 5')\n",
    "      sleep(1)\n",
    "      print('(' + str(guess) + '+' + str(first) + ') * 5 - ' + str(second))\n",
    "      sleep(1)\n",
    "      print('[(' + str(guess) + '+' + str(first) + ') * 5 - ' + str(second) + '] * 2')\n",
    "      sleep(1)\n",
    "      print('[(' + str(guess) + '+' + str(first) + ') * 5 - ' + str(second) + '] * 2 - 10 * ' + str(guess))\n",
    "\n",
    "      result = ((guess+first)*5-second)*2-10*guess\n",
    "      print('The result you get is ' + str(result))\n",
    "      print ('Finally...')\n",
    "      sleep(1)\n",
    "      print('Happy Birthday. Glad to be the same old as you for the moment. Love you 4ever.')\n",
    "    \n",
    "    def curvemove():\n",
    "      for i in range(200):\n",
    "        right(1)\n",
    "        forward(1)\n",
    "    color('red','pink')        \n",
    "    begin_fill()\n",
    "    left(140)\n",
    "    forward(111.65)\n",
    "    curvemove()\n",
    "    left(120)\n",
    "    curvemove()\n",
    "    forward(111.65)\n",
    "    end_fill()\n",
    "    done()\n",
    "    \n"
   ]
  }
 ],
 "metadata": {
  "kernelspec": {
   "display_name": "Python 3",
   "language": "python",
   "name": "python3"
  },
  "language_info": {
   "codemirror_mode": {
    "name": "ipython",
    "version": 3
   },
   "file_extension": ".py",
   "mimetype": "text/x-python",
   "name": "python",
   "nbconvert_exporter": "python",
   "pygments_lexer": "ipython3",
   "version": "3.6.5"
  }
 },
 "nbformat": 4,
 "nbformat_minor": 2
}
